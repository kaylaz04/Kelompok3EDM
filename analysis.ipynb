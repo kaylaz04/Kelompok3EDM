{
 "cells": [
  {
   "cell_type": "markdown",
   "metadata": {},
   "source": [
    "# Generate Plate Number"
   ]
  },
  {
   "cell_type": "code",
   "execution_count": 1,
   "metadata": {},
   "outputs": [
    {
     "name": "stdout",
     "output_type": "stream",
     "text": [
      "Requirement already satisfied: easyocr in c:\\users\\asus\\appdata\\local\\programs\\python\\python312\\lib\\site-packages (1.7.2)\n",
      "Requirement already satisfied: torch in c:\\users\\asus\\appdata\\local\\programs\\python\\python312\\lib\\site-packages (from easyocr) (2.6.0)\n",
      "Requirement already satisfied: torchvision>=0.5 in c:\\users\\asus\\appdata\\local\\programs\\python\\python312\\lib\\site-packages (from easyocr) (0.21.0)\n",
      "Collecting opencv-python-headless (from easyocr)\n",
      "  Using cached opencv_python_headless-4.11.0.86-cp37-abi3-win_amd64.whl.metadata (20 kB)\n",
      "Requirement already satisfied: scipy in c:\\users\\asus\\appdata\\local\\programs\\python\\python312\\lib\\site-packages (from easyocr) (1.14.1)\n",
      "Requirement already satisfied: numpy in c:\\users\\asus\\appdata\\local\\programs\\python\\python312\\lib\\site-packages (from easyocr) (2.2.2)\n",
      "Requirement already satisfied: Pillow in c:\\users\\asus\\appdata\\local\\programs\\python\\python312\\lib\\site-packages (from easyocr) (10.4.0)\n",
      "Requirement already satisfied: scikit-image in c:\\users\\asus\\appdata\\local\\programs\\python\\python312\\lib\\site-packages (from easyocr) (0.25.1)\n",
      "Requirement already satisfied: python-bidi in c:\\users\\asus\\appdata\\local\\programs\\python\\python312\\lib\\site-packages (from easyocr) (0.6.3)\n",
      "Requirement already satisfied: PyYAML in c:\\users\\asus\\appdata\\local\\programs\\python\\python312\\lib\\site-packages (from easyocr) (6.0.2)\n",
      "Requirement already satisfied: Shapely in c:\\users\\asus\\appdata\\local\\programs\\python\\python312\\lib\\site-packages (from easyocr) (2.0.6)\n",
      "Requirement already satisfied: pyclipper in c:\\users\\asus\\appdata\\local\\programs\\python\\python312\\lib\\site-packages (from easyocr) (1.3.0.post6)\n",
      "Requirement already satisfied: ninja in c:\\users\\asus\\appdata\\local\\programs\\python\\python312\\lib\\site-packages (from easyocr) (1.11.1.3)\n",
      "Requirement already satisfied: filelock in c:\\users\\asus\\appdata\\local\\programs\\python\\python312\\lib\\site-packages (from torch->easyocr) (3.17.0)\n",
      "Requirement already satisfied: typing-extensions>=4.10.0 in c:\\users\\asus\\appdata\\local\\programs\\python\\python312\\lib\\site-packages (from torch->easyocr) (4.12.2)\n",
      "Requirement already satisfied: networkx in c:\\users\\asus\\appdata\\local\\programs\\python\\python312\\lib\\site-packages (from torch->easyocr) (3.4.2)\n",
      "Requirement already satisfied: jinja2 in c:\\users\\asus\\appdata\\local\\programs\\python\\python312\\lib\\site-packages (from torch->easyocr) (3.1.4)\n",
      "Requirement already satisfied: fsspec in c:\\users\\asus\\appdata\\local\\programs\\python\\python312\\lib\\site-packages (from torch->easyocr) (2024.12.0)\n",
      "Requirement already satisfied: setuptools in c:\\users\\asus\\appdata\\local\\programs\\python\\python312\\lib\\site-packages (from torch->easyocr) (75.8.0)\n",
      "Requirement already satisfied: sympy==1.13.1 in c:\\users\\asus\\appdata\\local\\programs\\python\\python312\\lib\\site-packages (from torch->easyocr) (1.13.1)\n",
      "Requirement already satisfied: mpmath<1.4,>=1.1.0 in c:\\users\\asus\\appdata\\local\\programs\\python\\python312\\lib\\site-packages (from sympy==1.13.1->torch->easyocr) (1.3.0)\n",
      "Requirement already satisfied: imageio!=2.35.0,>=2.33 in c:\\users\\asus\\appdata\\local\\programs\\python\\python312\\lib\\site-packages (from scikit-image->easyocr) (2.37.0)\n",
      "Requirement already satisfied: tifffile>=2022.8.12 in c:\\users\\asus\\appdata\\local\\programs\\python\\python312\\lib\\site-packages (from scikit-image->easyocr) (2025.1.10)\n",
      "Requirement already satisfied: packaging>=21 in c:\\users\\asus\\appdata\\roaming\\python\\python312\\site-packages (from scikit-image->easyocr) (24.1)\n",
      "Requirement already satisfied: lazy-loader>=0.4 in c:\\users\\asus\\appdata\\local\\programs\\python\\python312\\lib\\site-packages (from scikit-image->easyocr) (0.4)\n",
      "Requirement already satisfied: MarkupSafe>=2.0 in c:\\users\\asus\\appdata\\local\\programs\\python\\python312\\lib\\site-packages (from jinja2->torch->easyocr) (2.1.5)\n",
      "Using cached opencv_python_headless-4.11.0.86-cp37-abi3-win_amd64.whl (39.4 MB)\n",
      "Installing collected packages: opencv-python-headless\n",
      "Successfully installed opencv-python-headless-4.11.0.86\n"
     ]
    }
   ],
   "source": [
    "!pip install easyocr"
   ]
  },
  {
   "cell_type": "code",
   "execution_count": 2,
   "metadata": {},
   "outputs": [],
   "source": [
    "import matplotlib.pyplot as plt\n",
    "import cv2\n",
    "import easyocr\n",
    "from IPython.display import Image"
   ]
  },
  {
   "cell_type": "code",
   "execution_count": 3,
   "metadata": {},
   "outputs": [
    {
     "data": {
      "image/jpeg": "[encoded data removed]",
      "text/plain": [
       "<IPython.core.display.Image object>"
      ]
     },
     "execution_count": 3,
     "metadata": {},
     "output_type": "execute_result"
    }
   ],
   "source": [
    "Image(\"E:/Kuliah/Kuliah/Semester 6/Ngoding/last_platedetector/plates/scaned_img_1.jpg\")"
   ]
  },
  {
   "cell_type": "code",
   "execution_count": 4,
   "metadata": {},
   "outputs": [
    {
     "name": "stderr",
     "output_type": "stream",
     "text": [
      "Neither CUDA nor MPS are available - defaulting to CPU. Note: This module is much faster with a GPU.\n"
     ]
    }
   ],
   "source": [
    "reader = easyocr.Reader(['en'])"
   ]
  },
  {
   "cell_type": "code",
   "execution_count": 5,
   "metadata": {},
   "outputs": [],
   "source": [
    "output = reader.readtext('E:/Kuliah/Kuliah/Semester 6/Ngoding/last_platedetector/plates/scaned_img_1.jpg')"
   ]
  },
  {
   "cell_type": "code",
   "execution_count": 6,
   "metadata": {},
   "outputs": [
    {
     "data": {
      "text/plain": [
       "[([[np.int32(52), np.int32(20)],\n",
       "   [np.int32(226), np.int32(20)],\n",
       "   [np.int32(226), np.int32(74)],\n",
       "   [np.int32(52), np.int32(74)]],\n",
       "  '1387 DKC',\n",
       "  np.float64(0.8405328261879734)),\n",
       " ([[np.int32(83), np.int32(71)],\n",
       "   [np.int32(109), np.int32(71)],\n",
       "   [np.int32(109), np.int32(85)],\n",
       "   [np.int32(83), np.int32(85)]],\n",
       "  '0 9',\n",
       "  np.float64(0.5389202329510692))]"
      ]
     },
     "execution_count": 6,
     "metadata": {},
     "output_type": "execute_result"
    }
   ],
   "source": [
    "output"
   ]
  }
 ],
 "metadata": {
  "kernelspec": {
   "display_name": "Python 3",
   "language": "python",
   "name": "python3"
  },
  "language_info": {
   "codemirror_mode": {
    "name": "ipython",
    "version": 3
   },
   "file_extension": ".py",
   "mimetype": "text/x-python",
   "name": "python",
   "nbconvert_exporter": "python",
   "pygments_lexer": "ipython3",
   "version": "3.12.5"
  }
 },
 "nbformat": 4,
 "nbformat_minor": 2
}
